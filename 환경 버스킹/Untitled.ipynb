{
 "cells": [
  {
   "cell_type": "markdown",
   "id": "f3861d6a",
   "metadata": {},
   "source": [
    "<h1>시계열 분석(Time Series) : 시간에 따른 변화 예측</h1>\n",
    "특정 간격을 갖는 시간(Lag) : Lag에서 데이터의 트렌드를 찾는 것\n",
    "\n",
    "일변량 정상시계열\n",
    "- ARIMA\n",
    "\n",
    "시계열의 지표\n",
    "Trend(추세)<br>\n",
    "Seasonality(계절성) : 주기에 따른 변화<br>\n",
    "Cycle(주기)<br>\n",
    "Noise(잡음) : 시간과 독립적인 데이터 (White Noise) = 통계적인 분석이 가능"
   ]
  },
  {
   "cell_type": "code",
   "execution_count": 46,
   "id": "5c285903",
   "metadata": {},
   "outputs": [],
   "source": [
    "import pandas as pd\n",
    "import numpy as np\n",
    "import seaborn as sns\n",
    "import matplotlib as mpl\n",
    "import matplotlib.pyplot as plt\n",
    "\n",
    "mpl.rc('font',family='Malgun Gothic')\n",
    "#font_family = \"Malgun\"\n",
    "#sns.set(font=font_family, rc={\"axes.unicode_minus\" : False})"
   ]
  },
  {
   "cell_type": "code",
   "execution_count": 47,
   "id": "4772698f",
   "metadata": {
    "scrolled": false
   },
   "outputs": [
    {
     "name": "stdout",
     "output_type": "stream",
     "text": [
      "<class 'pandas.core.frame.DataFrame'>\n",
      "RangeIndex: 11323 entries, 0 to 11322\n",
      "Data columns (total 5 columns):\n",
      " #   Column   Non-Null Count  Dtype  \n",
      "---  ------   --------------  -----  \n",
      " 0   날짜       11323 non-null  object \n",
      " 1   지점       11323 non-null  int64  \n",
      " 2   평균기온(℃)  11323 non-null  float64\n",
      " 3   최저기온(℃)  11322 non-null  float64\n",
      " 4   최고기온(℃)  11322 non-null  float64\n",
      "dtypes: float64(3), int64(1), object(1)\n",
      "memory usage: 442.4+ KB\n"
     ]
    }
   ],
   "source": [
    "df = pd.read_csv(\"./data/기온 관측지점 서울 1992년부터 2022년.csv\")\n",
    "df[\"날짜\"]=df[\"날짜\"].str.replace(\"\\t\", \"\")\n",
    "df.info()"
   ]
  },
  {
   "cell_type": "code",
   "execution_count": 48,
   "id": "4d9132ac",
   "metadata": {},
   "outputs": [
    {
     "data": {
      "text/html": [
       "<div>\n",
       "<style scoped>\n",
       "    .dataframe tbody tr th:only-of-type {\n",
       "        vertical-align: middle;\n",
       "    }\n",
       "\n",
       "    .dataframe tbody tr th {\n",
       "        vertical-align: top;\n",
       "    }\n",
       "\n",
       "    .dataframe thead th {\n",
       "        text-align: right;\n",
       "    }\n",
       "</style>\n",
       "<table border=\"1\" class=\"dataframe\">\n",
       "  <thead>\n",
       "    <tr style=\"text-align: right;\">\n",
       "      <th></th>\n",
       "      <th>날짜</th>\n",
       "      <th>지점</th>\n",
       "      <th>평균기온(℃)</th>\n",
       "      <th>최저기온(℃)</th>\n",
       "      <th>최고기온(℃)</th>\n",
       "    </tr>\n",
       "  </thead>\n",
       "  <tbody>\n",
       "    <tr>\n",
       "      <th>0</th>\n",
       "      <td>1992-01-01</td>\n",
       "      <td>108</td>\n",
       "      <td>1.8</td>\n",
       "      <td>-0.7</td>\n",
       "      <td>6.0</td>\n",
       "    </tr>\n",
       "    <tr>\n",
       "      <th>1</th>\n",
       "      <td>1992-01-02</td>\n",
       "      <td>108</td>\n",
       "      <td>1.0</td>\n",
       "      <td>-1.5</td>\n",
       "      <td>5.1</td>\n",
       "    </tr>\n",
       "    <tr>\n",
       "      <th>2</th>\n",
       "      <td>1992-01-03</td>\n",
       "      <td>108</td>\n",
       "      <td>-1.9</td>\n",
       "      <td>-5.0</td>\n",
       "      <td>1.8</td>\n",
       "    </tr>\n",
       "    <tr>\n",
       "      <th>3</th>\n",
       "      <td>1992-01-04</td>\n",
       "      <td>108</td>\n",
       "      <td>-2.4</td>\n",
       "      <td>-6.4</td>\n",
       "      <td>2.3</td>\n",
       "    </tr>\n",
       "    <tr>\n",
       "      <th>4</th>\n",
       "      <td>1992-01-05</td>\n",
       "      <td>108</td>\n",
       "      <td>0.2</td>\n",
       "      <td>-2.5</td>\n",
       "      <td>2.4</td>\n",
       "    </tr>\n",
       "  </tbody>\n",
       "</table>\n",
       "</div>"
      ],
      "text/plain": [
       "           날짜   지점  평균기온(℃)  최저기온(℃)  최고기온(℃)\n",
       "0  1992-01-01  108      1.8     -0.7      6.0\n",
       "1  1992-01-02  108      1.0     -1.5      5.1\n",
       "2  1992-01-03  108     -1.9     -5.0      1.8\n",
       "3  1992-01-04  108     -2.4     -6.4      2.3\n",
       "4  1992-01-05  108      0.2     -2.5      2.4"
      ]
     },
     "execution_count": 48,
     "metadata": {},
     "output_type": "execute_result"
    }
   ],
   "source": [
    "df.head()"
   ]
  },
  {
   "cell_type": "code",
   "execution_count": 49,
   "id": "8c4c2989",
   "metadata": {},
   "outputs": [
    {
     "data": {
      "text/html": [
       "<div>\n",
       "<style scoped>\n",
       "    .dataframe tbody tr th:only-of-type {\n",
       "        vertical-align: middle;\n",
       "    }\n",
       "\n",
       "    .dataframe tbody tr th {\n",
       "        vertical-align: top;\n",
       "    }\n",
       "\n",
       "    .dataframe thead th {\n",
       "        text-align: right;\n",
       "    }\n",
       "</style>\n",
       "<table border=\"1\" class=\"dataframe\">\n",
       "  <thead>\n",
       "    <tr style=\"text-align: right;\">\n",
       "      <th></th>\n",
       "      <th>날짜</th>\n",
       "      <th>지점</th>\n",
       "      <th>평균기온(℃)</th>\n",
       "      <th>최저기온(℃)</th>\n",
       "      <th>최고기온(℃)</th>\n",
       "    </tr>\n",
       "  </thead>\n",
       "  <tbody>\n",
       "    <tr>\n",
       "      <th>11318</th>\n",
       "      <td>2022-12-27</td>\n",
       "      <td>108</td>\n",
       "      <td>-2.6</td>\n",
       "      <td>-7.3</td>\n",
       "      <td>3.3</td>\n",
       "    </tr>\n",
       "    <tr>\n",
       "      <th>11319</th>\n",
       "      <td>2022-12-28</td>\n",
       "      <td>108</td>\n",
       "      <td>-3.3</td>\n",
       "      <td>-6.0</td>\n",
       "      <td>0.1</td>\n",
       "    </tr>\n",
       "    <tr>\n",
       "      <th>11320</th>\n",
       "      <td>2022-12-29</td>\n",
       "      <td>108</td>\n",
       "      <td>-2.9</td>\n",
       "      <td>-7.8</td>\n",
       "      <td>2.1</td>\n",
       "    </tr>\n",
       "    <tr>\n",
       "      <th>11321</th>\n",
       "      <td>2022-12-30</td>\n",
       "      <td>108</td>\n",
       "      <td>-1.8</td>\n",
       "      <td>-4.4</td>\n",
       "      <td>2.3</td>\n",
       "    </tr>\n",
       "    <tr>\n",
       "      <th>11322</th>\n",
       "      <td>2022-12-31</td>\n",
       "      <td>108</td>\n",
       "      <td>-1.2</td>\n",
       "      <td>-5.1</td>\n",
       "      <td>2.1</td>\n",
       "    </tr>\n",
       "  </tbody>\n",
       "</table>\n",
       "</div>"
      ],
      "text/plain": [
       "               날짜   지점  평균기온(℃)  최저기온(℃)  최고기온(℃)\n",
       "11318  2022-12-27  108     -2.6     -7.3      3.3\n",
       "11319  2022-12-28  108     -3.3     -6.0      0.1\n",
       "11320  2022-12-29  108     -2.9     -7.8      2.1\n",
       "11321  2022-12-30  108     -1.8     -4.4      2.3\n",
       "11322  2022-12-31  108     -1.2     -5.1      2.1"
      ]
     },
     "execution_count": 49,
     "metadata": {},
     "output_type": "execute_result"
    }
   ],
   "source": [
    "df.tail()"
   ]
  },
  {
   "cell_type": "code",
   "execution_count": 51,
   "id": "26590b6b",
   "metadata": {},
   "outputs": [],
   "source": [
    "#날짜를 Datetime 형식으로 바꾸면 시작일과 종료일을 정확히 알 수 있음\n",
    "df[\"Datetime\"] = pd.to_datetime(df[\"날짜\"])"
   ]
  },
  {
   "cell_type": "code",
   "execution_count": 52,
   "id": "47aa212d",
   "metadata": {},
   "outputs": [
    {
     "name": "stderr",
     "output_type": "stream",
     "text": [
      "C:\\Users\\iftra\\AppData\\Local\\Temp\\ipykernel_2084\\3122404064.py:1: FutureWarning: Treating datetime data as categorical rather than numeric in `.describe` is deprecated and will be removed in a future version of pandas. Specify `datetime_is_numeric=True` to silence this warning and adopt the future behavior now.\n",
      "  df[\"Datetime\"].describe()\n"
     ]
    },
    {
     "data": {
      "text/plain": [
       "count                   11323\n",
       "unique                  11323\n",
       "top       1992-01-01 00:00:00\n",
       "freq                        1\n",
       "first     1992-01-01 00:00:00\n",
       "last      2022-12-31 00:00:00\n",
       "Name: Datetime, dtype: object"
      ]
     },
     "execution_count": 52,
     "metadata": {},
     "output_type": "execute_result"
    }
   ],
   "source": [
    "df[\"Datetime\"].describe()"
   ]
  },
  {
   "cell_type": "code",
   "execution_count": 55,
   "id": "a07441c3",
   "metadata": {},
   "outputs": [
    {
     "name": "stderr",
     "output_type": "stream",
     "text": [
      "C:\\Users\\iftra\\AppData\\Local\\Temp\\ipykernel_2084\\1752972547.py:3: FutureWarning: Series.dt.weekofyear and Series.dt.week have been deprecated. Please use Series.dt.isocalendar().week instead.\n",
      "  df['Week'] = df['Datetime'].dt.week\n"
     ]
    },
    {
     "data": {
      "text/html": [
       "<div>\n",
       "<style scoped>\n",
       "    .dataframe tbody tr th:only-of-type {\n",
       "        vertical-align: middle;\n",
       "    }\n",
       "\n",
       "    .dataframe tbody tr th {\n",
       "        vertical-align: top;\n",
       "    }\n",
       "\n",
       "    .dataframe thead th {\n",
       "        text-align: right;\n",
       "    }\n",
       "</style>\n",
       "<table border=\"1\" class=\"dataframe\">\n",
       "  <thead>\n",
       "    <tr style=\"text-align: right;\">\n",
       "      <th></th>\n",
       "      <th>날짜</th>\n",
       "      <th>지점</th>\n",
       "      <th>평균기온(℃)</th>\n",
       "      <th>최저기온(℃)</th>\n",
       "      <th>최고기온(℃)</th>\n",
       "      <th>Datetime</th>\n",
       "      <th>year</th>\n",
       "      <th>Month</th>\n",
       "      <th>Week</th>\n",
       "      <th>Day_of_week</th>\n",
       "    </tr>\n",
       "  </thead>\n",
       "  <tbody>\n",
       "    <tr>\n",
       "      <th>0</th>\n",
       "      <td>1992-01-01</td>\n",
       "      <td>108</td>\n",
       "      <td>1.8</td>\n",
       "      <td>-0.7</td>\n",
       "      <td>6.0</td>\n",
       "      <td>1992-01-01</td>\n",
       "      <td>1992</td>\n",
       "      <td>1</td>\n",
       "      <td>1</td>\n",
       "      <td>Wednesday</td>\n",
       "    </tr>\n",
       "    <tr>\n",
       "      <th>1</th>\n",
       "      <td>1992-01-02</td>\n",
       "      <td>108</td>\n",
       "      <td>1.0</td>\n",
       "      <td>-1.5</td>\n",
       "      <td>5.1</td>\n",
       "      <td>1992-01-02</td>\n",
       "      <td>1992</td>\n",
       "      <td>1</td>\n",
       "      <td>1</td>\n",
       "      <td>Thursday</td>\n",
       "    </tr>\n",
       "    <tr>\n",
       "      <th>2</th>\n",
       "      <td>1992-01-03</td>\n",
       "      <td>108</td>\n",
       "      <td>-1.9</td>\n",
       "      <td>-5.0</td>\n",
       "      <td>1.8</td>\n",
       "      <td>1992-01-03</td>\n",
       "      <td>1992</td>\n",
       "      <td>1</td>\n",
       "      <td>1</td>\n",
       "      <td>Friday</td>\n",
       "    </tr>\n",
       "    <tr>\n",
       "      <th>3</th>\n",
       "      <td>1992-01-04</td>\n",
       "      <td>108</td>\n",
       "      <td>-2.4</td>\n",
       "      <td>-6.4</td>\n",
       "      <td>2.3</td>\n",
       "      <td>1992-01-04</td>\n",
       "      <td>1992</td>\n",
       "      <td>1</td>\n",
       "      <td>1</td>\n",
       "      <td>Saturday</td>\n",
       "    </tr>\n",
       "    <tr>\n",
       "      <th>4</th>\n",
       "      <td>1992-01-05</td>\n",
       "      <td>108</td>\n",
       "      <td>0.2</td>\n",
       "      <td>-2.5</td>\n",
       "      <td>2.4</td>\n",
       "      <td>1992-01-05</td>\n",
       "      <td>1992</td>\n",
       "      <td>1</td>\n",
       "      <td>1</td>\n",
       "      <td>Sunday</td>\n",
       "    </tr>\n",
       "  </tbody>\n",
       "</table>\n",
       "</div>"
      ],
      "text/plain": [
       "           날짜   지점  평균기온(℃)  최저기온(℃)  최고기온(℃)   Datetime  year  Month  Week  \\\n",
       "0  1992-01-01  108      1.8     -0.7      6.0 1992-01-01  1992      1     1   \n",
       "1  1992-01-02  108      1.0     -1.5      5.1 1992-01-02  1992      1     1   \n",
       "2  1992-01-03  108     -1.9     -5.0      1.8 1992-01-03  1992      1     1   \n",
       "3  1992-01-04  108     -2.4     -6.4      2.3 1992-01-04  1992      1     1   \n",
       "4  1992-01-05  108      0.2     -2.5      2.4 1992-01-05  1992      1     1   \n",
       "\n",
       "  Day_of_week  \n",
       "0   Wednesday  \n",
       "1    Thursday  \n",
       "2      Friday  \n",
       "3    Saturday  \n",
       "4      Sunday  "
      ]
     },
     "execution_count": 55,
     "metadata": {},
     "output_type": "execute_result"
    }
   ],
   "source": [
    "df['year'] = df['Datetime'].dt.year\n",
    "df['Month'] = df['Datetime'].dt.month\n",
    "df['Week'] = df['Datetime'].dt.week\n",
    "df['Day_of_week'] = df['Datetime'].dt.day_name()\n",
    "\n",
    "df.head()"
   ]
  },
  {
   "cell_type": "code",
   "execution_count": 57,
   "id": "ea1997b5",
   "metadata": {},
   "outputs": [
    {
     "data": {
      "text/plain": [
       "<Axes: xlabel='Datetime', ylabel='최고기온(℃)'>"
      ]
     },
     "execution_count": 57,
     "metadata": {},
     "output_type": "execute_result"
    },
    {
     "data": {
      "image/png": "[encoded data removed]",
      "text/plain": [
       "<Figure size 640x480 with 1 Axes>"
      ]
     },
     "metadata": {},
     "output_type": "display_data"
    }
   ],
   "source": [
    "#Trend를 보려면? 일단 일자별, 월별 등으로 특정값의 합을 보는게 좋음\n",
    "\n",
    "#일별 최고기온\n",
    "sns.lineplot(data=df, x='Datetime',y='최고기온(℃)', estimator=sum) #estimator 옵션이 없으면 해당 일자의 평균을 계산"
   ]
  },
  {
   "cell_type": "code",
   "execution_count": 62,
   "id": "4f860c6e",
   "metadata": {},
   "outputs": [
    {
     "data": {
      "text/plain": [
       "<Axes: xlabel='Datetime', ylabel='최고기온(℃)'>"
      ]
     },
     "execution_count": 62,
     "metadata": {},
     "output_type": "execute_result"
    },
    {
     "data": {
      "image/png": "[encoded data removed]",
      "text/plain": [
       "<Figure size 640x480 with 1 Axes>"
      ]
     },
     "metadata": {},
     "output_type": "display_data"
    }
   ],
   "source": [
    "#위처럼 계산을 할 때 데이터의 양이 많으면 시간이 오래 걸릴 수 있음\n",
    "#좀 더 빠르게 확인하는 방법은? -> pivoting 해주면 됨 -> 일별 합이 계산된 Dataframe이 나옴\n",
    "p1 = pd.pivot_table(data=df, index='Datetime',values='최고기온(℃)',aggfunc='sum').reset_index()\n",
    "sns.lineplot(data=p1, x='Datetime', y='최고기온(℃)')"
   ]
  },
  {
   "cell_type": "code",
   "execution_count": 66,
   "id": "9d207cf9",
   "metadata": {},
   "outputs": [
    {
     "data": {
      "text/plain": [
       "<Axes: xlabel='Datetime', ylabel='최고기온(℃)'>"
      ]
     },
     "execution_count": 66,
     "metadata": {},
     "output_type": "execute_result"
    },
    {
     "data": {
      "image/png": "[encoded data removed]",
      "text/plain": [
       "<Figure size 640x480 with 1 Axes>"
      ]
     },
     "metadata": {},
     "output_type": "display_data"
    }
   ],
   "source": [
    "#지점으로 범례를 나누고 싶다면?\n",
    "p2 = pd.pivot_table(data=df, index=['Datetime', '지점'],values='최고기온(℃)',aggfunc='sum').reset_index()\n",
    "sns.lineplot(data=p2, x='Datetime', y='최고기온(℃)', hue='지점')"
   ]
  },
  {
   "cell_type": "code",
   "execution_count": 69,
   "id": "92568e67",
   "metadata": {},
   "outputs": [],
   "source": [
    "#특정 지점만 추출\n",
    "cond1 = (df['지점']==108)\n",
    "df2 = df.loc[cond1]"
   ]
  },
  {
   "cell_type": "markdown",
   "id": "00dd614f",
   "metadata": {},
   "source": [
    "**ARIMA (Auto Regressive Integrated Moving Average Model)**\n",
    "\n",
    "다음 여러가지가 조합된 것\n",
    "* AR (Auto Regressive Model) : 자기회귀모델\n",
    "    - 특정 시점 전의 자료가 현재에 영향을 주는 회귀 모델\n",
    "    - noise에 대한 설명력이 떨어짐\n",
    "    - ACF(자기상관함수) : 특정 구간 내 데이터간 상관관계를 표현 -> 제3의 요인을 고려하지 못할 수 있음(이전의 데이터가 미래의 데이터에 지속적으로 영향을 주는 경우)\n",
    "    - PACF(부분자기상관함수) : 제3의 요인을 배제하고 생각\n",
    "\n",
    "* MA (Moving Average Model) : 이동평균모델\n",
    "    - 일정한 구간 데이터의 평균을 계산해 미래를 에측하는 모델\n",
    "    - noise(불규칙적인 변동)을 제거할 수 있음\n",
    "    \n",
    "* Difference(차분)\n",
    "    - 원래 시계열 분석은 정상적인 자료에만 적용이 가능(lag에 따라 평균이나 분산이 변화하지 않는 데이터)\n",
    "    - 차분으로 데이터를 정상적으로 변환을 시켜줌\n",
    "    \n",
    "- 시계열 모델은 lag에 따른 데이터의 Trend를 분석하는 것\n",
    "- 일단 데이터가 통계적으로 기술이 가능해야함(White noise 범주 안에 들어야함)\n",
    "- 분석을 할 때 대표적으로 ARIMA라는 모델을 사용\n",
    "- ARIMA에는 세가지 요소가 존재 AR, MR, Difference\n",
    "- AR은 이전에 일어났던 일이 지금 일어나는 일에 얼마나 영향을 주는지 분석(자기회귀분석)\n",
    "- AR의 단점은 변동에 대한 설명력\n",
    "- 그래서 MA를 이용해 이를 보완함\n",
    "- 초기에는 ARMA라는 모델의 형태로 사용했음\n",
    "- 그러나 이후 Difference를 적용한 ARIMA라는 모델을 쓰면서 정상성에 대한 보정이 가능해졌음\n",
    "\n",
    "**ARIMA Model**\n",
    "- 단기예측에 적합함\n",
    "- 계절적 변동요인 (주기적 변동)이 있는 경우에 사용\n",
    "- Sample > 50 : 데이터 사이의 관계를 파악하기 때문에 샘플 수 가 많아야함(적은 샘플에서 노이즈가 있다면 제대로된 예측이 불가능 하므로)\n",
    "- 정성적 자료를 사용해야함(시간에따른 평균과 분산의 변화 x) -> 정성적 자료가 아니라면 차분을 이용함"
   ]
  },
  {
   "cell_type": "code",
   "execution_count": 77,
   "id": "f703532c",
   "metadata": {},
   "outputs": [],
   "source": [
    "import statsmodels.tsa.api as tsa"
   ]
  },
  {
   "cell_type": "code",
   "execution_count": 73,
   "id": "07c2df22",
   "metadata": {},
   "outputs": [
    {
     "data": {
      "text/html": [
       "<div>\n",
       "<style scoped>\n",
       "    .dataframe tbody tr th:only-of-type {\n",
       "        vertical-align: middle;\n",
       "    }\n",
       "\n",
       "    .dataframe tbody tr th {\n",
       "        vertical-align: top;\n",
       "    }\n",
       "\n",
       "    .dataframe thead th {\n",
       "        text-align: right;\n",
       "    }\n",
       "</style>\n",
       "<table border=\"1\" class=\"dataframe\">\n",
       "  <thead>\n",
       "    <tr style=\"text-align: right;\">\n",
       "      <th></th>\n",
       "      <th>날짜</th>\n",
       "      <th>지점</th>\n",
       "      <th>평균기온(℃)</th>\n",
       "      <th>최저기온(℃)</th>\n",
       "      <th>최고기온(℃)</th>\n",
       "      <th>Datetime</th>\n",
       "      <th>year</th>\n",
       "      <th>Month</th>\n",
       "      <th>Week</th>\n",
       "      <th>Day_of_week</th>\n",
       "    </tr>\n",
       "  </thead>\n",
       "  <tbody>\n",
       "    <tr>\n",
       "      <th>0</th>\n",
       "      <td>1992-01-01</td>\n",
       "      <td>108</td>\n",
       "      <td>1.8</td>\n",
       "      <td>-0.7</td>\n",
       "      <td>6.0</td>\n",
       "      <td>1992-01-01</td>\n",
       "      <td>1992</td>\n",
       "      <td>1</td>\n",
       "      <td>1</td>\n",
       "      <td>Wednesday</td>\n",
       "    </tr>\n",
       "    <tr>\n",
       "      <th>1</th>\n",
       "      <td>1992-01-02</td>\n",
       "      <td>108</td>\n",
       "      <td>1.0</td>\n",
       "      <td>-1.5</td>\n",
       "      <td>5.1</td>\n",
       "      <td>1992-01-02</td>\n",
       "      <td>1992</td>\n",
       "      <td>1</td>\n",
       "      <td>1</td>\n",
       "      <td>Thursday</td>\n",
       "    </tr>\n",
       "    <tr>\n",
       "      <th>2</th>\n",
       "      <td>1992-01-03</td>\n",
       "      <td>108</td>\n",
       "      <td>-1.9</td>\n",
       "      <td>-5.0</td>\n",
       "      <td>1.8</td>\n",
       "      <td>1992-01-03</td>\n",
       "      <td>1992</td>\n",
       "      <td>1</td>\n",
       "      <td>1</td>\n",
       "      <td>Friday</td>\n",
       "    </tr>\n",
       "    <tr>\n",
       "      <th>3</th>\n",
       "      <td>1992-01-04</td>\n",
       "      <td>108</td>\n",
       "      <td>-2.4</td>\n",
       "      <td>-6.4</td>\n",
       "      <td>2.3</td>\n",
       "      <td>1992-01-04</td>\n",
       "      <td>1992</td>\n",
       "      <td>1</td>\n",
       "      <td>1</td>\n",
       "      <td>Saturday</td>\n",
       "    </tr>\n",
       "    <tr>\n",
       "      <th>4</th>\n",
       "      <td>1992-01-05</td>\n",
       "      <td>108</td>\n",
       "      <td>0.2</td>\n",
       "      <td>-2.5</td>\n",
       "      <td>2.4</td>\n",
       "      <td>1992-01-05</td>\n",
       "      <td>1992</td>\n",
       "      <td>1</td>\n",
       "      <td>1</td>\n",
       "      <td>Sunday</td>\n",
       "    </tr>\n",
       "  </tbody>\n",
       "</table>\n",
       "</div>"
      ],
      "text/plain": [
       "           날짜   지점  평균기온(℃)  최저기온(℃)  최고기온(℃)   Datetime  year  Month  Week  \\\n",
       "0  1992-01-01  108      1.8     -0.7      6.0 1992-01-01  1992      1     1   \n",
       "1  1992-01-02  108      1.0     -1.5      5.1 1992-01-02  1992      1     1   \n",
       "2  1992-01-03  108     -1.9     -5.0      1.8 1992-01-03  1992      1     1   \n",
       "3  1992-01-04  108     -2.4     -6.4      2.3 1992-01-04  1992      1     1   \n",
       "4  1992-01-05  108      0.2     -2.5      2.4 1992-01-05  1992      1     1   \n",
       "\n",
       "  Day_of_week  \n",
       "0   Wednesday  \n",
       "1    Thursday  \n",
       "2      Friday  \n",
       "3    Saturday  \n",
       "4      Sunday  "
      ]
     },
     "execution_count": 73,
     "metadata": {},
     "output_type": "execute_result"
    }
   ],
   "source": [
    "df2.head()"
   ]
  },
  {
   "cell_type": "code",
   "execution_count": 75,
   "id": "93aee38a",
   "metadata": {},
   "outputs": [
    {
     "data": {
      "text/html": [
       "<div>\n",
       "<style scoped>\n",
       "    .dataframe tbody tr th:only-of-type {\n",
       "        vertical-align: middle;\n",
       "    }\n",
       "\n",
       "    .dataframe tbody tr th {\n",
       "        vertical-align: top;\n",
       "    }\n",
       "\n",
       "    .dataframe thead th {\n",
       "        text-align: right;\n",
       "    }\n",
       "</style>\n",
       "<table border=\"1\" class=\"dataframe\">\n",
       "  <thead>\n",
       "    <tr style=\"text-align: right;\">\n",
       "      <th></th>\n",
       "      <th>최고기온(℃)</th>\n",
       "    </tr>\n",
       "    <tr>\n",
       "      <th>Datetime</th>\n",
       "      <th></th>\n",
       "    </tr>\n",
       "  </thead>\n",
       "  <tbody>\n",
       "    <tr>\n",
       "      <th>1992-01-01</th>\n",
       "      <td>6.0</td>\n",
       "    </tr>\n",
       "    <tr>\n",
       "      <th>1992-01-02</th>\n",
       "      <td>5.1</td>\n",
       "    </tr>\n",
       "    <tr>\n",
       "      <th>1992-01-03</th>\n",
       "      <td>1.8</td>\n",
       "    </tr>\n",
       "    <tr>\n",
       "      <th>1992-01-04</th>\n",
       "      <td>2.3</td>\n",
       "    </tr>\n",
       "    <tr>\n",
       "      <th>1992-01-05</th>\n",
       "      <td>2.4</td>\n",
       "    </tr>\n",
       "  </tbody>\n",
       "</table>\n",
       "</div>"
      ],
      "text/plain": [
       "            최고기온(℃)\n",
       "Datetime           \n",
       "1992-01-01      6.0\n",
       "1992-01-02      5.1\n",
       "1992-01-03      1.8\n",
       "1992-01-04      2.3\n",
       "1992-01-05      2.4"
      ]
     },
     "execution_count": 75,
     "metadata": {},
     "output_type": "execute_result"
    }
   ],
   "source": [
    "#시계열분석에서는 index가 시간에 대한 데이터인게 좋음\n",
    "df_time = pd.pivot_table(data=df2, index='Datetime'\n",
    "               ,values='최고기온(℃)', aggfunc='sum')\n",
    "df_time.head()"
   ]
  },
  {
   "cell_type": "code",
   "execution_count": null,
   "id": "14912f61",
   "metadata": {},
   "outputs": [],
   "source": [
    "y = df_time['최고기온(℃)'].resample('1W').mean() #1W = 일주일 단위의 평균\n",
    "y.info()"
   ]
  },
  {
   "cell_type": "code",
   "execution_count": null,
   "id": "5796fc8d",
   "metadata": {},
   "outputs": [],
   "source": [
    "y.isnull().sum() #missing value가 있는지 확인\n",
    "y1 = y.fillna(method='ffill') #결측치를 이전 값으로 채움 - 시계열 데이터에서는 전체 평균 보다는 bfill, ffill을 이용하는게 좋음"
   ]
  },
  {
   "cell_type": "markdown",
   "id": "40275bab",
   "metadata": {},
   "source": [
    "* 시계열 분해\n",
    "    - Trend\n",
    "    - Seasonality\n",
    "    - Resdiual(잔차)\n",
    "\n",
    "1. 첫번째 그래프 = 데이터를 lag 단위로 찍은 것\n",
    "2. Trend = 경향으로 표현\n",
    "3. Seasonal = 계절성\n",
    "4. Residual = 잔차"
   ]
  },
  {
   "cell_type": "code",
   "execution_count": null,
   "id": "aef32f1e",
   "metadata": {},
   "outputs": [],
   "source": [
    "#그래프 사이즈 조정\n",
    "from pylab import rcParams\n",
    "\n",
    "rcParams['figure.figsize'] = 15,10"
   ]
  },
  {
   "cell_type": "markdown",
   "id": "9806e833",
   "metadata": {},
   "source": [
    "* 분해 시계열\n",
    "    - 시계열에 영향을 주는 일반적 요인을 시계열에서 분리해 분석하는 방법 \n",
    "    - 계절요인 Seasonal\n",
    "    - 추세요인 Trend \n",
    "    - 순환요인 Cyclical \n",
    "    - 불규칙요인 Irregular"
   ]
  },
  {
   "cell_type": "code",
   "execution_count": null,
   "id": "038f3f7b",
   "metadata": {
    "scrolled": true
   },
   "outputs": [],
   "source": [
    "#시계열 모델 생성\n",
    "model_series = tsa.seasonal_decompose(y1, model='additive')\n",
    "#모델 시각화\n",
    "fig = model_series.plot()\n",
    "plt.show()"
   ]
  },
  {
   "cell_type": "code",
   "execution_count": null,
   "id": "62188d1f",
   "metadata": {},
   "outputs": [],
   "source": [
    "import itertools #반복수를 만드는 라이브러리"
   ]
  },
  {
   "cell_type": "code",
   "execution_count": null,
   "id": "b8bfdb9c",
   "metadata": {},
   "outputs": [],
   "source": [
    "p = d = q = range(0, 2)\n",
    "pdq = list(itertools.product(p, d, q)) # p는 며칠 전의 자료가 영향을 주는지, d는 차분\n",
    "seasonal_pdq = [(x[0], x[1], x[2], 31) for x in list(itertools.product(p, d, q))]"
   ]
  },
  {
   "cell_type": "code",
   "execution_count": null,
   "id": "f029a46d",
   "metadata": {},
   "outputs": [],
   "source": [
    "seasonal_pdq # 난수로 (p,d,q)의 조합을 만든 것"
   ]
  },
  {
   "cell_type": "code",
   "execution_count": null,
   "id": "c64516f2",
   "metadata": {},
   "outputs": [],
   "source": [
    "param_list = []\n",
    "param_seasonal_list = []\n",
    "results_AIC_list = []"
   ]
  },
  {
   "cell_type": "code",
   "execution_count": null,
   "id": "7ae6e81e",
   "metadata": {},
   "outputs": [],
   "source": [
    "for param in pdq:\n",
    "     for param_seasonal in seasonal_pdq:\n",
    "        try:\n",
    "            mod = tsa.statespace.SARIMAX(y1,order=param,\n",
    "                                            seasonal_order=param_seasonal,\n",
    "                                            enforce_stationarity=False,\n",
    "                                            enforce_invertibility=False)\n",
    "            results = mod.fit()\n",
    "            param_list.append(param)\n",
    "            param_seasonal_list.append(param_seasonal)\n",
    "            results_AIC_list.append(results.aic)\n",
    "        except:\n",
    "             continue"
   ]
  },
  {
   "cell_type": "markdown",
   "id": "61fdeeca",
   "metadata": {},
   "source": [
    "- **Likelihood (최대우도) : 특정 데이터가 모수로부터 추출되었을 가능도(분포의 확률을 추정)**\n",
    "    - 특정 데이터가 이 분포에서 나왔을 확률!!\n",
    "    - 특정값에 대한 분포의 확률 추정(연속확률밀도함수 pdf의 y값)\n",
    "    \n",
    "    \n",
    "아래 세 지표는 모두 값이 낮을 수록 모델이 적합한 것\n",
    "- **AIC (Akaike Informaion Criterion) : 데이터에 대한 모델의 상대적 품질 수준**\n",
    "    - AIC = -2 ln(L) + 2k (L은 최대우도함수)\n",
    "    - 값이 낮을 수록 모형 적합도가 높은 것\n",
    "    \n",
    "- **BIC (Bayes Information Criterion)**\n",
    "    - BIC = -2 ln(L) + log(n)p \n",
    "    - AIC보다 더 많은 패널티를 부여하기에 변수가 많아질수록 AIC보다 커질 가능성이 높음\n",
    "    \n",
    "- **HQIC (Hannan Quin Information Criterion)**\n",
    "    - HQIC = -2 ln(L) + 2k ln(ln(n))"
   ]
  },
  {
   "cell_type": "code",
   "execution_count": null,
   "id": "d47d7b05",
   "metadata": {},
   "outputs": [],
   "source": [
    "ARIMA_list = pd.DataFrame({'Parameter':param_list,'Seasonal':param_seasonal_list,'AIC':results_AIC_list})\n",
    "ARIMA_list.to_excel('arima_model_list.xlsx')"
   ]
  },
  {
   "cell_type": "code",
   "execution_count": null,
   "id": "5405c8b5",
   "metadata": {},
   "outputs": [],
   "source": [
    "ARIMA_list.sort_values(by='AIC').head(2)"
   ]
  },
  {
   "cell_type": "code",
   "execution_count": null,
   "id": "e5248801",
   "metadata": {
    "scrolled": false
   },
   "outputs": [],
   "source": [
    "#AIC가 가장 낮은(모형적합도가 높은) 경우로 모델 구성\n",
    "#SARIMAX = 계절성이 없는 파라미터에 계절성이 있는 파라미터를 추가해 만든 모델\n",
    "mod = tsa.statespace.SARIMAX(y1,order=(0, 1, 1),seasonal_order=(0, 1, 1, 12),\n",
    "                              enforce_stationarity=False, enforce_invertibility=False)\n",
    "results = mod.fit()\n",
    "print(results.summary())"
   ]
  },
  {
   "cell_type": "markdown",
   "id": "c9af5e7e",
   "metadata": {},
   "source": [
    "- *Order (p,d,q), Seasonal Order (P,D,Q,M)*\n",
    "    - p : AR에서의 p값 (p 구간 내 데이터 사이의 상관관계를 계산함)\n",
    "    - d : 차분 (현시점 자료값 - 전시점 자료값)\n",
    "    - q : MA PACF의 편상관계수 q 값\n",
    "    - P : 계절성이 있는 패턴내에서의 p값(위와 동일)\n",
    "    - D : 계절성 여부(1또는 0)\n",
    "    - Q : ACF 함수 기준으로 계절성이 얼마나 반복되는지 횟수\n",
    "    - M : 주기가 어느정도인지 나타냄\n",
    "\n",
    "- *coef : ARIMA Model 내 회귀계수*\n",
    "- *p>|z| : Ljung-Box 검정에서의 p값*\n",
    "\n",
    "- *Ljung-Box 검정 : 일정 기간 동안 관측치가 랜덤이고, 독립적인지 여부를 검정*\n",
    "    - 귀무 가설 : 데이터가 상관관계를 나타내지 않는다.\n",
    "    - 대립 가설 : 데이터가 상관관계를 나타낸다.(상관계수가 0이 아니다)\n",
    "    - p.value(귀무가설이 참일 확률) < 0.05 (유의수준)\n",
    "    \n",
    "- *Heteroskedasticity : 이분산 검정 = 잔차의 분산이 일치한지 검정 (P<0.05 : 등분산)*\n",
    "\n",
    "- *Jarque Bera 검정 : 왜도(한쪽으로 쏠린 정도)와 첨도(뾰족한 정도)가 정규분포와 일치하는지 가설 검정*\n",
    "    - SARIMAX의 잔차의 분포가 정규분포인가?를 검정\n",
    "    - 귀무가설 : 해당 잔차(residual)은 정규분포와 일치한다.\n",
    "    - 대립 가설 : 해당 잔차(residual)은 정규분포와 일치하지 않는다. = Trend가 있다!(회귀분석에서는 잔차가 정규분포를 띠어야함)\n",
    "    - Skew : 왜도\n",
    "    - Kurtosis : 첨도"
   ]
  },
  {
   "cell_type": "markdown",
   "id": "db63277b",
   "metadata": {},
   "source": [
    "**잔차**\n",
    "- 잔차는 실제값과 예측값 사이 차이 : 잔차가 작다 = 모델이 데이터를 잘 설명한다"
   ]
  },
  {
   "cell_type": "code",
   "execution_count": null,
   "id": "10f950f2",
   "metadata": {},
   "outputs": [],
   "source": [
    "results.plot_diagnostics(figsize=(16, 8))\n",
    "plt.show()"
   ]
  }
 ],
 "metadata": {
  "kernelspec": {
   "display_name": "nd",
   "language": "python",
   "name": "nd"
  },
  "language_info": {
   "codemirror_mode": {
    "name": "ipython",
    "version": 3
   },
   "file_extension": ".py",
   "mimetype": "text/x-python",
   "name": "python",
   "nbconvert_exporter": "python",
   "pygments_lexer": "ipython3",
   "version": "3.11.4"
  }
 },
 "nbformat": 4,
 "nbformat_minor": 5
}
